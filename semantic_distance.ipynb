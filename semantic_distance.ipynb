{
 "cells": [
  {
   "cell_type": "markdown",
   "metadata": {},
   "source": [
    "# Courte analyse lexicale d'un article de vulgarisation scientifique"
   ]
  },
  {
   "cell_type": "markdown",
   "metadata": {},
   "source": [
    "On se propose de mesurer analytiquement la distance lexicale des co-références liées aux termes \"ISON\", \"Oort\", et \"Soleil\", issus d'un article de Science et Vie daté de 2013 et disponible ici : https://www.science-et-vie.com/ciel-et-espace/comete-ison-que-va-t-il-se-passer-4865. L'analyse s'appuie sur la version française de WordNet developpée par Benoît Sagot et disponible ici : http://alpage.inria.fr/~sagot/wolf-en.html; ainsi que sur l'API FreNetic disponible ici :  https://github.com/hardik-vala/FreNetic."
   ]
  },
  {
   "cell_type": "code",
   "execution_count": 125,
   "metadata": {
    "collapsed": false
   },
   "outputs": [],
   "source": [
    "from frenetic import * # chargement de l'API FreNetic"
   ]
  },
  {
   "cell_type": "code",
   "execution_count": 2,
   "metadata": {
    "collapsed": false
   },
   "outputs": [],
   "source": [
    "fwn = FreNetic(\"../wolf-1.0b4.xml\") # chargement de WOLF"
   ]
  },
  {
   "cell_type": "code",
   "execution_count": 127,
   "metadata": {
    "collapsed": false
   },
   "outputs": [],
   "source": [
    "\"\"\"\n",
    "La fonction suivante définit la notion de distance sémantique entre synsets.\n",
    "L'idée est de trouver le plus petit synset contenant les deux synsets dont on\n",
    "cherche la distance, et de compter la longueur des deux branches partant de ce\n",
    "synset et aboutissant sur les deux synsets de départ. Cela équivaut donc à\n",
    "trouver le plus court chemin entre deux noeuds de l'arbre formé par la relation\n",
    "d'hyperonymie entre synsets.\n",
    "\"\"\"\n",
    "\n",
    "\n",
    "def semantic_distance(syn1, syn2):\n",
    "    if syn1.sid() == syn2.sid():\n",
    "        return 0, syn1\n",
    "    else:\n",
    "        hyp1 = syn1.hypernyms()\n",
    "        hyp2 = syn2.hypernyms()\n",
    "        if not hyp1:\n",
    "            hyp2 = hyp2[0]\n",
    "            return semantic_distance(syn1, hyp2)[0]+1, syn1\n",
    "        if not hyp2:\n",
    "            hyp1 = hyp1[0]\n",
    "            return semantic_distance(hyp1, syn2)[0]+1, syn2\n",
    "        hyp1 = hyp1[0]\n",
    "        hyp2 = hyp2[0]\n",
    "        d1, cl1 = semantic_distance(hyp1, syn2)\n",
    "        d2, cl2 = semantic_distance(syn1, hyp2)\n",
    "        if d1 <= d2:\n",
    "            return d1+1, cl1\n",
    "        else:\n",
    "            return d2+1, cl2"
   ]
  },
  {
   "cell_type": "code",
   "execution_count": 128,
   "metadata": {
    "collapsed": false
   },
   "outputs": [],
   "source": [
    "comete = fwn.synsets(\"comète\")[0]\n",
    "astre = fwn.synsets(\"astre\")[0]\n",
    "vestige = fwn.synsets(\"vestige\")[0]\n",
    "nuage = fwn.synsets(\"nuage\")[1]\n",
    "nuage2 = fwn.synsets(\"nuage\")[2]\n",
    "corps = fwn.synsets(\"corps céleste\")[0]\n",
    "soleil = fwn.synsets(\"soleil\")[0]\n",
    "etoile = fwn.synsets(\"étoile\")[4]\n",
    "feu = fwn.synsets(\"feu\")[0]"
   ]
  },
  {
   "cell_type": "code",
   "execution_count": 129,
   "metadata": {
    "collapsed": false
   },
   "outputs": [
    {
     "data": {
      "text/plain": [
       "(3,\n",
       " Synset(Id: eng-30-00019128-n, Literals: [], Def.: an object occurring naturally; not made by man, Usages: [], POS: n, Hypernyms: ['eng-30-00003553-n']))"
      ]
     },
     "execution_count": 129,
     "metadata": {},
     "output_type": "execute_result"
    }
   ],
   "source": [
    "semantic_distance(astre, comete)"
   ]
  },
  {
   "cell_type": "code",
   "execution_count": 130,
   "metadata": {
    "collapsed": false
   },
   "outputs": [
    {
     "data": {
      "text/plain": [
       "(3,\n",
       " Synset(Id: eng-30-00019128-n, Literals: [], Def.: an object occurring naturally; not made by man, Usages: [], POS: n, Hypernyms: ['eng-30-00003553-n']))"
      ]
     },
     "execution_count": 130,
     "metadata": {},
     "output_type": "execute_result"
    }
   ],
   "source": [
    "semantic_distance(comete, corps)"
   ]
  },
  {
   "cell_type": "code",
   "execution_count": 131,
   "metadata": {
    "collapsed": false
   },
   "outputs": [
    {
     "data": {
      "text/plain": [
       "(0,\n",
       " Synset(Id: eng-30-09239740-n, Literals: [astre (0/1:frwiktionary;gwa2012(0.80298232052059870245);lrec12mllexwn(2.500);ManVal2012OK), corps céleste (0/1:enwiktionary;gwa2012(0.71068778227834916716);lrec12mllexwn(2.779);ManVal2012OK)], Def.: natural objects visible in the sky, Usages: [], POS: n, Hypernyms: ['eng-30-00019128-n']))"
      ]
     },
     "execution_count": 131,
     "metadata": {},
     "output_type": "execute_result"
    }
   ],
   "source": [
    "semantic_distance(corps, astre)"
   ]
  },
  {
   "cell_type": "code",
   "execution_count": 132,
   "metadata": {
    "collapsed": false
   },
   "outputs": [
    {
     "data": {
      "text/plain": [
       "(8,\n",
       " Synset(Id: eng-30-00003553-n, Literals: [ensemble (16/3:fr.csen,fr.rocsen,fr.roen;gwa2012(0.41692783094314717074);lrec12mllexwn(2.123);ManVal2012OK), totalité (lrec12mllexwn(2.351);ManVal2012OK), tout (gwa2012(0.39815607922990592371);lrec12mllexwn(2.405);ManVal2012OK), unité (gwa2012(0.12057048319353755317);ManVal2012AN)], Def.: an assemblage of parts that is regarded as a single entity, Usages: ['how big is that part compared to the whole?', 'the team is a unit'], POS: n, Hypernyms: ['eng-30-00002684-n']))"
      ]
     },
     "execution_count": 132,
     "metadata": {},
     "output_type": "execute_result"
    }
   ],
   "source": [
    "semantic_distance(soleil, feu)"
   ]
  },
  {
   "cell_type": "code",
   "execution_count": 133,
   "metadata": {
    "collapsed": false
   },
   "outputs": [
    {
     "data": {
      "text/plain": [
       "(11,\n",
       " Synset(Id: eng-30-00001930-n, Literals: [], Def.: an entity that has physical existence, Usages: [], POS: n, Hypernyms: ['eng-30-00001740-n']))"
      ]
     },
     "execution_count": 133,
     "metadata": {},
     "output_type": "execute_result"
    }
   ],
   "source": [
    "semantic_distance(nuage, vestige)"
   ]
  }
 ],
 "metadata": {
  "kernelspec": {
   "display_name": "Python 2",
   "language": "python",
   "name": "python2"
  },
  "language_info": {
   "codemirror_mode": {
    "name": "ipython",
    "version": 2
   },
   "file_extension": ".py",
   "mimetype": "text/x-python",
   "name": "python",
   "nbconvert_exporter": "python",
   "pygments_lexer": "ipython2",
   "version": "2.7.13"
  }
 },
 "nbformat": 4,
 "nbformat_minor": 2
}
